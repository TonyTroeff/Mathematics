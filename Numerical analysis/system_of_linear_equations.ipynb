{
 "cells": [
  {
   "cell_type": "code",
   "execution_count": 1,
   "metadata": {
    "collapsed": true
   },
   "outputs": [
    {
     "name": "stdout",
     "output_type": "stream",
     "text": [
      "[1.7821782178217822, 0.7425742574257427, 0.7920792079207922]\n",
      "[1.7821782178217822, 0.7425742574257427, 0.7920792079207922]\n",
      "[3.428571428571429, 6.571428571428571, 2.0]\n",
      "[3.428571428571429, 6.571428571428571, 2.0]\n",
      "[0.0, 1.0, 0.0]\n",
      "[0.0, 1.0, 0.0]\n"
     ]
    }
   ],
   "source": [
    "from typing import List\n",
    "\n",
    "\n",
    "def validate_extended_matrix(matrix: List[List[float]], n: int) -> None:\n",
    "    extended_length = n + 1\n",
    "    for i in range(n):\n",
    "        if len(matrix[i]) != extended_length:\n",
    "            raise Exception(f'Incorrect matrix was passed. Expected length {extended_length} on row {i}.')\n",
    "\n",
    "\n",
    "def copy_matrix(matrix: List[List[float]]) -> List[List[float]]:\n",
    "    return [[col for col in row] for row in matrix]\n",
    "\n",
    "\n",
    "def solve_gaus(matrix: List[List[float]]) -> List[float]:\n",
    "    n = len(matrix)\n",
    "    validate_extended_matrix(matrix, n)\n",
    "    operative_matrix = copy_matrix(matrix)\n",
    "\n",
    "    for i in range(n):\n",
    "        for j in range(i + 1, n):\n",
    "            v = operative_matrix[j][i] / operative_matrix[i][i]\n",
    "            for k in range(i, n + 1):\n",
    "                operative_matrix[j][k] -= v * operative_matrix[i][k]\n",
    "\n",
    "    ans = [0 for _ in range(n)]\n",
    "    for i in reversed(range(n)):\n",
    "        v = operative_matrix[i][n]\n",
    "        for j in range(i + 1, n):\n",
    "            v -= operative_matrix[i][j] * ans[j]\n",
    "\n",
    "        ans[i] = v / operative_matrix[i][i]\n",
    "\n",
    "    return ans\n",
    "\n",
    "\n",
    "def solve_gaus_jordan(matrix: List[List[float]]) -> List[float]:\n",
    "    n = len(matrix)\n",
    "    validate_extended_matrix(matrix, n)\n",
    "    operative_matrix = copy_matrix(matrix)\n",
    "\n",
    "    for i in range(n):\n",
    "        for j in filter(lambda arg1: i != arg1, range(n)):\n",
    "            v = operative_matrix[j][i] / operative_matrix[i][i]\n",
    "            for k in range(i, n + 1):\n",
    "                operative_matrix[j][k] -= v * operative_matrix[i][k]\n",
    "\n",
    "    ans = [row[n] / row[i] for i, row in enumerate(operative_matrix)]\n",
    "    return ans\n",
    "\n",
    "\n",
    "ans_gaus_1 = solve_gaus([[9, -6, -2, 10], [-2, 8, -3, 0], [-1, -4, 6, 0]])\n",
    "ans_gaus_jordan_1 = solve_gaus_jordan([[9, -6, -2, 10], [-2, 8, -3, 0], [-1, -4, 6, 0]])\n",
    "ans_gaus_2 = solve_gaus([[-1, -1, 6, 2], [-1, 6, -1, 34], [6, -1, -1, 12]])\n",
    "ans_gaus_jordan_2 = solve_gaus_jordan([[-1, -1, 6, 2], [-1, 6, -1, 34], [6, -1, -1, 12]])\n",
    "ans_gaus_3 = solve_gaus([[1, 4, -3, 4], [4, 20, 14, 20], [3, 14, 14, 14]])\n",
    "ans_gaus_jordan_3 = solve_gaus_jordan([[1, 4, -3, 4], [4, 20, 14, 20], [3, 14, 14, 14]])\n",
    "\n",
    "print(ans_gaus_1)\n",
    "print(ans_gaus_jordan_1)\n",
    "print(ans_gaus_2)\n",
    "print(ans_gaus_jordan_2)\n",
    "print(ans_gaus_3)\n",
    "print(ans_gaus_jordan_3)\n"
   ]
  }
 ],
 "metadata": {
  "kernelspec": {
   "display_name": "Python 3",
   "language": "python",
   "name": "python3"
  },
  "language_info": {
   "codemirror_mode": {
    "name": "ipython",
    "version": 2
   },
   "file_extension": ".py",
   "mimetype": "text/x-python",
   "name": "python",
   "nbconvert_exporter": "python",
   "pygments_lexer": "ipython2",
   "version": "2.7.6"
  }
 },
 "nbformat": 4,
 "nbformat_minor": 0
}
